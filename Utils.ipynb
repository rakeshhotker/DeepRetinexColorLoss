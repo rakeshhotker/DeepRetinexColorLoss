{
 "cells": [
  {
   "cell_type": "code",
   "execution_count": 1,
   "id": "682e0449",
   "metadata": {},
   "outputs": [],
   "source": [
    "import numpy as np\n",
    "from PIL import Image\n",
    "\n",
    "def data_augmentation(image, mode):\n",
    "    if mode == 0:\n",
    "        # original\n",
    "        return image\n",
    "    elif mode == 1:\n",
    "        # flip up and down\n",
    "        return np.flipud(image)\n",
    "    elif mode == 2:\n",
    "        # rotate counterwise 90 degree\n",
    "        return np.rot90(image)\n",
    "    elif mode == 3:\n",
    "        # rotate 90 degree and flip up and down\n",
    "        image = np.rot90(image)\n",
    "        return np.flipud(image)\n",
    "    elif mode == 4:\n",
    "        # rotate 180 degree\n",
    "        return np.rot90(image, k=2)\n",
    "    elif mode == 5:\n",
    "        # rotate 180 degree and flip\n",
    "        image = np.rot90(image, k=2)\n",
    "        return np.flipud(image)\n",
    "    elif mode == 6:\n",
    "        # rotate 270 degree\n",
    "        return np.rot90(image, k=3)\n",
    "    elif mode == 7:\n",
    "        # rotate 270 degree and flip\n",
    "        image = np.rot90(image, k=3)\n",
    "        return np.flipud(image)\n",
    "\n",
    "def load_images(file):\n",
    "    im = Image.open(file)\n",
    "    return np.array(im, dtype=\"float32\") / 255.0\n",
    "\n",
    "def save_images(filepath, result_1, result_2 = None):\n",
    "    result_1 = np.squeeze(result_1)\n",
    "    result_2 = np.squeeze(result_2)\n",
    "\n",
    "    if not result_2.any():\n",
    "        cat_image = result_1\n",
    "    else:\n",
    "        cat_image = np.concatenate([result_1, result_2], axis = 1)\n",
    "\n",
    "    im = Image.fromarray(np.clip(cat_image * 255.0, 0, 255.0).astype('uint8'))\n",
    "    im.save(filepath, 'png')\n"
   ]
  },
  {
   "cell_type": "code",
   "execution_count": null,
   "id": "4f8ff8dc",
   "metadata": {},
   "outputs": [],
   "source": []
  }
 ],
 "metadata": {
  "kernelspec": {
   "display_name": "Python 3",
   "language": "python",
   "name": "python3"
  },
  "language_info": {
   "codemirror_mode": {
    "name": "ipython",
    "version": 3
   },
   "file_extension": ".py",
   "mimetype": "text/x-python",
   "name": "python",
   "nbconvert_exporter": "python",
   "pygments_lexer": "ipython3",
   "version": "3.6.12"
  }
 },
 "nbformat": 4,
 "nbformat_minor": 5
}
